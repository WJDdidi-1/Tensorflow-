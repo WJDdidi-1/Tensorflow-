{
  "nbformat": 4,
  "nbformat_minor": 0,
  "metadata": {
    "colab": {
      "provenance": [],
      "gpuType": "T4",
      "cell_execution_strategy": "setup"
    },
    "kernelspec": {
      "name": "python3",
      "display_name": "Python 3"
    },
    "language_info": {
      "name": "python"
    },
    "accelerator": "GPU"
  },
  "cells": [
    {
      "cell_type": "code",
      "execution_count": null,
      "metadata": {
        "colab": {
          "base_uri": "https://localhost:8080/"
        },
        "id": "qkkyiXfAqKko",
        "outputId": "4e931f17-fc47-406f-e6e5-63d3e09c8aa6"
      },
      "outputs": [
        {
          "metadata": {
            "tags": null
          },
          "name": "stdout",
          "output_type": "stream",
          "text": [
            "TensorFlow version: 2.18.0\n",
            "解压完成！\n",
            "Found 28709 images belonging to 7 classes.\n",
            "Found 7178 images belonging to 7 classes.\n",
            "Epoch 1/300\n"
          ]
        },
        {
          "metadata": {
            "tags": null
          },
          "name": "stderr",
          "output_type": "stream",
          "text": [
            "/usr/local/lib/python3.11/dist-packages/keras/src/trainers/data_adapters/py_dataset_adapter.py:121: UserWarning: Your `PyDataset` class should call `super().__init__(**kwargs)` in its constructor. `**kwargs` can include `workers`, `use_multiprocessing`, `max_queue_size`. Do not pass these arguments to `fit()`, as they will be ignored.\n",
            "  self._warn_if_super_not_called()\n"
          ]
        },
        {
          "metadata": {
            "tags": null
          },
          "name": "stdout",
          "output_type": "stream",
          "text": [
            "\n",
            "Epoch 1: val_accuracy improved from -inf to 0.34584, saving model to best_model.h5\n"
          ]
        },
        {
          "metadata": {
            "tags": null
          },
          "name": "stderr",
          "output_type": "stream",
          "text": [
            "WARNING:absl:You are saving your model as an HDF5 file via `model.save()` or `keras.saving.save_model(model)`. This file format is considered legacy. We recommend using instead the native Keras format, e.g. `model.save('my_model.keras')` or `keras.saving.save_model(model, 'my_model.keras')`. \n"
          ]
        },
        {
          "metadata": {
            "tags": null
          },
          "name": "stdout",
          "output_type": "stream",
          "text": [
            "448/448 - 49s - 110ms/step - accuracy: 0.2804 - loss: 1.9150 - val_accuracy: 0.3458 - val_loss: 1.7049 - learning_rate: 1.0000e-03\n",
            "Epoch 2/300\n"
          ]
        },
        {
          "metadata": {
            "tags": null
          },
          "name": "stderr",
          "output_type": "stream",
          "text": [
            "/usr/local/lib/python3.11/dist-packages/keras/src/trainers/epoch_iterator.py:107: UserWarning: Your input ran out of data; interrupting training. Make sure that your dataset or generator can generate at least `steps_per_epoch * epochs` batches. You may need to use the `.repeat()` function when building your dataset.\n",
            "  self._interrupted_warning()\n"
          ]
        },
        {
          "metadata": {
            "tags": null
          },
          "name": "stdout",
          "output_type": "stream",
          "text": [
            "\n",
            "Epoch 2: val_accuracy did not improve from 0.34584\n",
            "448/448 - 4s - 9ms/step - accuracy: 0.3125 - loss: 1.7568 - val_accuracy: 0.3357 - val_loss: 1.7226 - learning_rate: 1.0000e-03\n",
            "Epoch 3/300\n",
            "\n",
            "Epoch 3: val_accuracy improved from 0.34584 to 0.47140, saving model to best_model.h5\n"
          ]
        },
        {
          "metadata": {
            "tags": null
          },
          "name": "stderr",
          "output_type": "stream",
          "text": [
            "WARNING:absl:You are saving your model as an HDF5 file via `model.save()` or `keras.saving.save_model(model)`. This file format is considered legacy. We recommend using instead the native Keras format, e.g. `model.save('my_model.keras')` or `keras.saving.save_model(model, 'my_model.keras')`. \n"
          ]
        },
        {
          "metadata": {
            "tags": null
          },
          "name": "stdout",
          "output_type": "stream",
          "text": [
            "448/448 - 59s - 132ms/step - accuracy: 0.4221 - loss: 1.5249 - val_accuracy: 0.4714 - val_loss: 1.3683 - learning_rate: 1.0000e-03\n",
            "Epoch 4/300\n",
            "\n",
            "Epoch 4: val_accuracy improved from 0.47140 to 0.47182, saving model to best_model.h5\n"
          ]
        },
        {
          "metadata": {
            "tags": null
          },
          "name": "stderr",
          "output_type": "stream",
          "text": [
            "WARNING:absl:You are saving your model as an HDF5 file via `model.save()` or `keras.saving.save_model(model)`. This file format is considered legacy. We recommend using instead the native Keras format, e.g. `model.save('my_model.keras')` or `keras.saving.save_model(model, 'my_model.keras')`. \n"
          ]
        },
        {
          "metadata": {
            "tags": null
          },
          "name": "stdout",
          "output_type": "stream",
          "text": [
            "448/448 - 5s - 10ms/step - accuracy: 0.5000 - loss: 1.3450 - val_accuracy: 0.4718 - val_loss: 1.3664 - learning_rate: 1.0000e-03\n",
            "Epoch 5/300\n",
            "\n",
            "Epoch 5: val_accuracy improved from 0.47182 to 0.50711, saving model to best_model.h5\n"
          ]
        },
        {
          "metadata": {
            "tags": null
          },
          "name": "stderr",
          "output_type": "stream",
          "text": [
            "WARNING:absl:You are saving your model as an HDF5 file via `model.save()` or `keras.saving.save_model(model)`. This file format is considered legacy. We recommend using instead the native Keras format, e.g. `model.save('my_model.keras')` or `keras.saving.save_model(model, 'my_model.keras')`. \n"
          ]
        },
        {
          "metadata": {
            "tags": null
          },
          "name": "stdout",
          "output_type": "stream",
          "text": [
            "448/448 - 41s - 91ms/step - accuracy: 0.4896 - loss: 1.3273 - val_accuracy: 0.5071 - val_loss: 1.2889 - learning_rate: 1.0000e-03\n",
            "Epoch 6/300\n",
            "\n",
            "Epoch 6: val_accuracy improved from 0.50711 to 0.51618, saving model to best_model.h5\n"
          ]
        },
        {
          "metadata": {
            "tags": null
          },
          "name": "stderr",
          "output_type": "stream",
          "text": [
            "WARNING:absl:You are saving your model as an HDF5 file via `model.save()` or `keras.saving.save_model(model)`. This file format is considered legacy. We recommend using instead the native Keras format, e.g. `model.save('my_model.keras')` or `keras.saving.save_model(model, 'my_model.keras')`. \n"
          ]
        },
        {
          "metadata": {
            "tags": null
          },
          "name": "stdout",
          "output_type": "stream",
          "text": [
            "448/448 - 2s - 5ms/step - accuracy: 0.5469 - loss: 1.2389 - val_accuracy: 0.5162 - val_loss: 1.2643 - learning_rate: 1.0000e-03\n",
            "Epoch 7/300\n",
            "\n",
            "Epoch 7: val_accuracy did not improve from 0.51618\n",
            "448/448 - 41s - 92ms/step - accuracy: 0.5261 - loss: 1.2416 - val_accuracy: 0.5070 - val_loss: 1.3745 - learning_rate: 1.0000e-03\n",
            "Epoch 8/300\n",
            "\n",
            "Epoch 8: val_accuracy did not improve from 0.51618\n",
            "448/448 - 2s - 5ms/step - accuracy: 0.5312 - loss: 1.1955 - val_accuracy: 0.5056 - val_loss: 1.3886 - learning_rate: 1.0000e-03\n",
            "Epoch 9/300\n",
            "\n",
            "Epoch 9: val_accuracy improved from 0.51618 to 0.51883, saving model to best_model.h5\n"
          ]
        },
        {
          "metadata": {
            "tags": null
          },
          "name": "stderr",
          "output_type": "stream",
          "text": [
            "WARNING:absl:You are saving your model as an HDF5 file via `model.save()` or `keras.saving.save_model(model)`. This file format is considered legacy. We recommend using instead the native Keras format, e.g. `model.save('my_model.keras')` or `keras.saving.save_model(model, 'my_model.keras')`. \n"
          ]
        },
        {
          "metadata": {
            "tags": null
          },
          "name": "stdout",
          "output_type": "stream",
          "text": [
            "448/448 - 64s - 144ms/step - accuracy: 0.5477 - loss: 1.1963 - val_accuracy: 0.5188 - val_loss: 1.3054 - learning_rate: 1.0000e-03\n",
            "Epoch 10/300\n",
            "\n",
            "Epoch 10: val_accuracy improved from 0.51883 to 0.52134, saving model to best_model.h5\n"
          ]
        },
        {
          "metadata": {
            "tags": null
          },
          "name": "stderr",
          "output_type": "stream",
          "text": [
            "WARNING:absl:You are saving your model as an HDF5 file via `model.save()` or `keras.saving.save_model(model)`. This file format is considered legacy. We recommend using instead the native Keras format, e.g. `model.save('my_model.keras')` or `keras.saving.save_model(model, 'my_model.keras')`. \n"
          ]
        },
        {
          "metadata": {
            "tags": null
          },
          "name": "stdout",
          "output_type": "stream",
          "text": [
            "448/448 - 2s - 5ms/step - accuracy: 0.7188 - loss: 0.9314 - val_accuracy: 0.5213 - val_loss: 1.2776 - learning_rate: 1.0000e-03\n",
            "Epoch 11/300\n",
            "\n",
            "Epoch 11: val_accuracy did not improve from 0.52134\n",
            "448/448 - 41s - 91ms/step - accuracy: 0.5599 - loss: 1.1575 - val_accuracy: 0.4650 - val_loss: 1.4478 - learning_rate: 1.0000e-03\n",
            "Epoch 12/300\n",
            "\n",
            "Epoch 12: val_accuracy did not improve from 0.52134\n",
            "448/448 - 3s - 6ms/step - accuracy: 0.7031 - loss: 0.9129 - val_accuracy: 0.4694 - val_loss: 1.4247 - learning_rate: 1.0000e-03\n",
            "Epoch 13/300\n",
            "\n",
            "Epoch 13: val_accuracy improved from 0.52134 to 0.56403, saving model to best_model.h5\n"
          ]
        },
        {
          "metadata": {
            "tags": null
          },
          "name": "stderr",
          "output_type": "stream",
          "text": [
            "WARNING:absl:You are saving your model as an HDF5 file via `model.save()` or `keras.saving.save_model(model)`. This file format is considered legacy. We recommend using instead the native Keras format, e.g. `model.save('my_model.keras')` or `keras.saving.save_model(model, 'my_model.keras')`. \n"
          ]
        },
        {
          "metadata": {
            "tags": null
          },
          "name": "stdout",
          "output_type": "stream",
          "text": [
            "448/448 - 41s - 92ms/step - accuracy: 0.5739 - loss: 1.1265 - val_accuracy: 0.5640 - val_loss: 1.1469 - learning_rate: 1.0000e-03\n",
            "Epoch 14/300\n",
            "\n",
            "Epoch 14: val_accuracy did not improve from 0.56403\n",
            "448/448 - 2s - 5ms/step - accuracy: 0.4375 - loss: 1.3328 - val_accuracy: 0.5603 - val_loss: 1.1530 - learning_rate: 1.0000e-03\n",
            "Epoch 15/300\n",
            "\n",
            "Epoch 15: val_accuracy improved from 0.56403 to 0.59752, saving model to best_model.h5\n"
          ]
        },
        {
          "metadata": {
            "tags": null
          },
          "name": "stderr",
          "output_type": "stream",
          "text": [
            "WARNING:absl:You are saving your model as an HDF5 file via `model.save()` or `keras.saving.save_model(model)`. This file format is considered legacy. We recommend using instead the native Keras format, e.g. `model.save('my_model.keras')` or `keras.saving.save_model(model, 'my_model.keras')`. \n"
          ]
        },
        {
          "metadata": {
            "tags": null
          },
          "name": "stdout",
          "output_type": "stream",
          "text": [
            "448/448 - 41s - 91ms/step - accuracy: 0.5791 - loss: 1.1059 - val_accuracy: 0.5975 - val_loss: 1.0730 - learning_rate: 1.0000e-03\n",
            "Epoch 16/300\n",
            "\n",
            "Epoch 16: val_accuracy did not improve from 0.59752\n",
            "448/448 - 2s - 5ms/step - accuracy: 0.5312 - loss: 1.2426 - val_accuracy: 0.5938 - val_loss: 1.0806 - learning_rate: 1.0000e-03\n",
            "Epoch 17/300\n",
            "\n",
            "Epoch 17: val_accuracy improved from 0.59752 to 0.59835, saving model to best_model.h5\n"
          ]
        },
        {
          "metadata": {
            "tags": null
          },
          "name": "stderr",
          "output_type": "stream",
          "text": [
            "WARNING:absl:You are saving your model as an HDF5 file via `model.save()` or `keras.saving.save_model(model)`. This file format is considered legacy. We recommend using instead the native Keras format, e.g. `model.save('my_model.keras')` or `keras.saving.save_model(model, 'my_model.keras')`. \n"
          ]
        },
        {
          "metadata": {
            "tags": null
          },
          "name": "stdout",
          "output_type": "stream",
          "text": [
            "448/448 - 65s - 145ms/step - accuracy: 0.5897 - loss: 1.0755 - val_accuracy: 0.5984 - val_loss: 1.0757 - learning_rate: 1.0000e-03\n",
            "Epoch 18/300\n",
            "\n",
            "Epoch 18: val_accuracy did not improve from 0.59835\n",
            "448/448 - 3s - 6ms/step - accuracy: 0.4219 - loss: 1.5549 - val_accuracy: 0.5954 - val_loss: 1.0840 - learning_rate: 1.0000e-03\n",
            "Epoch 19/300\n",
            "\n",
            "Epoch 19: val_accuracy improved from 0.59835 to 0.62249, saving model to best_model.h5\n"
          ]
        },
        {
          "metadata": {
            "tags": null
          },
          "name": "stderr",
          "output_type": "stream",
          "text": [
            "WARNING:absl:You are saving your model as an HDF5 file via `model.save()` or `keras.saving.save_model(model)`. This file format is considered legacy. We recommend using instead the native Keras format, e.g. `model.save('my_model.keras')` or `keras.saving.save_model(model, 'my_model.keras')`. \n"
          ]
        },
        {
          "metadata": {
            "tags": null
          },
          "name": "stdout",
          "output_type": "stream",
          "text": [
            "448/448 - 41s - 91ms/step - accuracy: 0.5996 - loss: 1.0615 - val_accuracy: 0.6225 - val_loss: 1.0274 - learning_rate: 1.0000e-03\n",
            "Epoch 20/300\n",
            "\n",
            "Epoch 20: val_accuracy did not improve from 0.62249\n",
            "448/448 - 2s - 5ms/step - accuracy: 0.6250 - loss: 0.9077 - val_accuracy: 0.6210 - val_loss: 1.0295 - learning_rate: 1.0000e-03\n",
            "Epoch 21/300\n",
            "\n",
            "Epoch 21: val_accuracy did not improve from 0.62249\n",
            "448/448 - 65s - 144ms/step - accuracy: 0.6058 - loss: 1.0426 - val_accuracy: 0.5776 - val_loss: 1.1100 - learning_rate: 1.0000e-03\n",
            "Epoch 22/300\n",
            "\n",
            "Epoch 22: val_accuracy did not improve from 0.62249\n",
            "448/448 - 2s - 5ms/step - accuracy: 0.7188 - loss: 0.8484 - val_accuracy: 0.5759 - val_loss: 1.1136 - learning_rate: 1.0000e-03\n",
            "Epoch 23/300\n",
            "\n",
            "Epoch 23: val_accuracy did not improve from 0.62249\n",
            "448/448 - 41s - 93ms/step - accuracy: 0.6112 - loss: 1.0286 - val_accuracy: 0.6204 - val_loss: 1.0106 - learning_rate: 1.0000e-03\n",
            "Epoch 24/300\n",
            "\n",
            "Epoch 24: val_accuracy did not improve from 0.62249\n",
            "448/448 - 5s - 10ms/step - accuracy: 0.6875 - loss: 0.9285 - val_accuracy: 0.6187 - val_loss: 1.0178 - learning_rate: 1.0000e-03\n",
            "Epoch 25/300\n",
            "\n",
            "Epoch 25: val_accuracy did not improve from 0.62249\n",
            "448/448 - 34s - 75ms/step - accuracy: 0.6193 - loss: 1.0139 - val_accuracy: 0.5886 - val_loss: 1.1088 - learning_rate: 1.0000e-03\n",
            "Epoch 26/300\n",
            "\n",
            "Epoch 26: val_accuracy did not improve from 0.62249\n",
            "448/448 - 5s - 11ms/step - accuracy: 0.5625 - loss: 1.1708 - val_accuracy: 0.5940 - val_loss: 1.1061 - learning_rate: 1.0000e-03\n",
            "Epoch 27/300\n",
            "\n",
            "Epoch 27: val_accuracy did not improve from 0.62249\n",
            "448/448 - 36s - 81ms/step - accuracy: 0.6241 - loss: 1.0003 - val_accuracy: 0.6062 - val_loss: 1.0474 - learning_rate: 1.0000e-03\n",
            "Epoch 28/300\n",
            "\n",
            "Epoch 28: val_accuracy did not improve from 0.62249\n",
            "448/448 - 2s - 5ms/step - accuracy: 0.6094 - loss: 1.0957 - val_accuracy: 0.6069 - val_loss: 1.0516 - learning_rate: 1.0000e-03\n",
            "Epoch 29/300\n",
            "\n",
            "Epoch 29: val_accuracy did not improve from 0.62249\n",
            "448/448 - 25s - 56ms/step - accuracy: 0.6290 - loss: 0.9844 - val_accuracy: 0.6133 - val_loss: 1.0712 - learning_rate: 1.0000e-03\n",
            "Epoch 30/300\n",
            "\n",
            "Epoch 30: val_accuracy did not improve from 0.62249\n",
            "448/448 - 2s - 5ms/step - accuracy: 0.6875 - loss: 0.8617 - val_accuracy: 0.6186 - val_loss: 1.0545 - learning_rate: 1.0000e-03\n",
            "Epoch 31/300\n",
            "\n",
            "Epoch 31: val_accuracy improved from 0.62249 to 0.63477, saving model to best_model.h5\n"
          ]
        },
        {
          "metadata": {
            "tags": null
          },
          "name": "stderr",
          "output_type": "stream",
          "text": [
            "WARNING:absl:You are saving your model as an HDF5 file via `model.save()` or `keras.saving.save_model(model)`. This file format is considered legacy. We recommend using instead the native Keras format, e.g. `model.save('my_model.keras')` or `keras.saving.save_model(model, 'my_model.keras')`. \n"
          ]
        },
        {
          "metadata": {
            "tags": null
          },
          "name": "stdout",
          "output_type": "stream",
          "text": [
            "448/448 - 41s - 92ms/step - accuracy: 0.6366 - loss: 0.9691 - val_accuracy: 0.6348 - val_loss: 0.9712 - learning_rate: 1.0000e-03\n",
            "Epoch 32/300\n",
            "\n",
            "Epoch 32: val_accuracy did not improve from 0.63477\n",
            "448/448 - 2s - 5ms/step - accuracy: 0.6562 - loss: 0.9737 - val_accuracy: 0.6339 - val_loss: 0.9712 - learning_rate: 1.0000e-03\n",
            "Epoch 33/300\n",
            "\n",
            "Epoch 33: val_accuracy did not improve from 0.63477\n",
            "448/448 - 26s - 59ms/step - accuracy: 0.6391 - loss: 0.9625 - val_accuracy: 0.6246 - val_loss: 0.9891 - learning_rate: 1.0000e-03\n",
            "Epoch 34/300\n",
            "\n",
            "Epoch 34: val_accuracy did not improve from 0.63477\n",
            "448/448 - 2s - 5ms/step - accuracy: 0.6250 - loss: 1.0897 - val_accuracy: 0.6257 - val_loss: 0.9910 - learning_rate: 1.0000e-03\n",
            "Epoch 35/300\n",
            "\n",
            "Epoch 35: val_accuracy improved from 0.63477 to 0.64495, saving model to best_model.h5\n"
          ]
        },
        {
          "metadata": {
            "tags": null
          },
          "name": "stderr",
          "output_type": "stream",
          "text": [
            "WARNING:absl:You are saving your model as an HDF5 file via `model.save()` or `keras.saving.save_model(model)`. This file format is considered legacy. We recommend using instead the native Keras format, e.g. `model.save('my_model.keras')` or `keras.saving.save_model(model, 'my_model.keras')`. \n"
          ]
        },
        {
          "metadata": {
            "tags": null
          },
          "name": "stdout",
          "output_type": "stream",
          "text": [
            "448/448 - 37s - 83ms/step - accuracy: 0.6428 - loss: 0.9465 - val_accuracy: 0.6449 - val_loss: 0.9548 - learning_rate: 1.0000e-03\n",
            "Epoch 36/300\n",
            "\n",
            "Epoch 36: val_accuracy did not improve from 0.64495\n",
            "448/448 - 3s - 6ms/step - accuracy: 0.6875 - loss: 0.8932 - val_accuracy: 0.6436 - val_loss: 0.9564 - learning_rate: 1.0000e-03\n",
            "Epoch 37/300\n",
            "\n",
            "Epoch 37: val_accuracy did not improve from 0.64495\n",
            "448/448 - 39s - 86ms/step - accuracy: 0.6492 - loss: 0.9326 - val_accuracy: 0.6380 - val_loss: 1.0048 - learning_rate: 1.0000e-03\n",
            "Epoch 38/300\n",
            "\n",
            "Epoch 38: val_accuracy did not improve from 0.64495\n",
            "448/448 - 4s - 10ms/step - accuracy: 0.6094 - loss: 0.9123 - val_accuracy: 0.6371 - val_loss: 1.0010 - learning_rate: 1.0000e-03\n",
            "Epoch 39/300\n",
            "\n",
            "Epoch 39: val_accuracy improved from 0.64495 to 0.64565, saving model to best_model.h5\n"
          ]
        },
        {
          "metadata": {
            "tags": null
          },
          "name": "stderr",
          "output_type": "stream",
          "text": [
            "WARNING:absl:You are saving your model as an HDF5 file via `model.save()` or `keras.saving.save_model(model)`. This file format is considered legacy. We recommend using instead the native Keras format, e.g. `model.save('my_model.keras')` or `keras.saving.save_model(model, 'my_model.keras')`. \n"
          ]
        },
        {
          "metadata": {
            "tags": null
          },
          "name": "stdout",
          "output_type": "stream",
          "text": [
            "448/448 - 36s - 81ms/step - accuracy: 0.6527 - loss: 0.9220 - val_accuracy: 0.6456 - val_loss: 0.9536 - learning_rate: 1.0000e-03\n",
            "Epoch 40/300\n",
            "\n",
            "Epoch 40: val_accuracy improved from 0.64565 to 0.64969, saving model to best_model.h5\n"
          ]
        },
        {
          "metadata": {
            "tags": null
          },
          "name": "stderr",
          "output_type": "stream",
          "text": [
            "WARNING:absl:You are saving your model as an HDF5 file via `model.save()` or `keras.saving.save_model(model)`. This file format is considered legacy. We recommend using instead the native Keras format, e.g. `model.save('my_model.keras')` or `keras.saving.save_model(model, 'my_model.keras')`. \n"
          ]
        },
        {
          "metadata": {
            "tags": null
          },
          "name": "stdout",
          "output_type": "stream",
          "text": [
            "448/448 - 2s - 5ms/step - accuracy: 0.7188 - loss: 0.7693 - val_accuracy: 0.6497 - val_loss: 0.9440 - learning_rate: 1.0000e-03\n",
            "Epoch 41/300\n",
            "\n",
            "Epoch 41: val_accuracy did not improve from 0.64969\n",
            "448/448 - 41s - 91ms/step - accuracy: 0.6582 - loss: 0.9114 - val_accuracy: 0.6395 - val_loss: 0.9640 - learning_rate: 1.0000e-03\n",
            "Epoch 42/300\n",
            "\n",
            "Epoch 42: val_accuracy did not improve from 0.64969\n",
            "448/448 - 2s - 5ms/step - accuracy: 0.6406 - loss: 0.8846 - val_accuracy: 0.6353 - val_loss: 0.9790 - learning_rate: 1.0000e-03\n",
            "Epoch 43/300\n",
            "\n",
            "Epoch 43: val_accuracy did not improve from 0.64969\n",
            "448/448 - 25s - 56ms/step - accuracy: 0.6589 - loss: 0.9058 - val_accuracy: 0.6484 - val_loss: 0.9556 - learning_rate: 1.0000e-03\n",
            "Epoch 44/300\n",
            "\n",
            "Epoch 44: val_accuracy did not improve from 0.64969\n",
            "448/448 - 2s - 5ms/step - accuracy: 0.7031 - loss: 0.8388 - val_accuracy: 0.6468 - val_loss: 0.9601 - learning_rate: 1.0000e-03\n",
            "Epoch 45/300\n",
            "\n",
            "Epoch 45: val_accuracy did not improve from 0.64969\n",
            "448/448 - 41s - 92ms/step - accuracy: 0.6611 - loss: 0.8939 - val_accuracy: 0.6409 - val_loss: 0.9773 - learning_rate: 1.0000e-03\n",
            "Epoch 46/300\n",
            "\n",
            "Epoch 46: val_accuracy did not improve from 0.64969\n",
            "448/448 - 3s - 6ms/step - accuracy: 0.5781 - loss: 1.0509 - val_accuracy: 0.6426 - val_loss: 0.9737 - learning_rate: 1.0000e-03\n",
            "Epoch 47/300\n",
            "\n",
            "Epoch 47: val_accuracy did not improve from 0.64969\n",
            "448/448 - 64s - 142ms/step - accuracy: 0.6645 - loss: 0.8863 - val_accuracy: 0.6422 - val_loss: 0.9964 - learning_rate: 1.0000e-03\n",
            "Epoch 48/300\n",
            "\n",
            "Epoch 48: val_accuracy did not improve from 0.64969\n",
            "448/448 - 2s - 5ms/step - accuracy: 0.6719 - loss: 0.9136 - val_accuracy: 0.6394 - val_loss: 1.0019 - learning_rate: 1.0000e-03\n",
            "Epoch 49/300\n",
            "\n",
            "Epoch 49: val_accuracy did not improve from 0.64969\n",
            "448/448 - 25s - 57ms/step - accuracy: 0.6722 - loss: 0.8744 - val_accuracy: 0.6466 - val_loss: 0.9938 - learning_rate: 1.0000e-03\n",
            "Epoch 50/300\n",
            "\n",
            "Epoch 50: ReduceLROnPlateau reducing learning rate to 0.00020000000949949026.\n",
            "\n",
            "Epoch 50: val_accuracy did not improve from 0.64969\n",
            "448/448 - 2s - 5ms/step - accuracy: 0.6406 - loss: 0.8456 - val_accuracy: 0.6451 - val_loss: 0.9941 - learning_rate: 1.0000e-03\n",
            "Epoch 51/300\n",
            "\n",
            "Epoch 51: val_accuracy improved from 0.64969 to 0.67201, saving model to best_model.h5\n"
          ]
        },
        {
          "metadata": {
            "tags": null
          },
          "name": "stderr",
          "output_type": "stream",
          "text": [
            "WARNING:absl:You are saving your model as an HDF5 file via `model.save()` or `keras.saving.save_model(model)`. This file format is considered legacy. We recommend using instead the native Keras format, e.g. `model.save('my_model.keras')` or `keras.saving.save_model(model, 'my_model.keras')`. \n"
          ]
        },
        {
          "metadata": {
            "tags": null
          },
          "name": "stdout",
          "output_type": "stream",
          "text": [
            "448/448 - 41s - 92ms/step - accuracy: 0.6946 - loss: 0.8221 - val_accuracy: 0.6720 - val_loss: 0.9054 - learning_rate: 2.0000e-04\n",
            "Epoch 52/300\n",
            "\n",
            "Epoch 52: val_accuracy did not improve from 0.67201\n",
            "448/448 - 2s - 5ms/step - accuracy: 0.5625 - loss: 0.8980 - val_accuracy: 0.6716 - val_loss: 0.9046 - learning_rate: 2.0000e-04\n",
            "Epoch 53/300\n",
            "\n",
            "Epoch 53: val_accuracy improved from 0.67201 to 0.67564, saving model to best_model.h5\n"
          ]
        },
        {
          "metadata": {
            "tags": null
          },
          "name": "stderr",
          "output_type": "stream",
          "text": [
            "WARNING:absl:You are saving your model as an HDF5 file via `model.save()` or `keras.saving.save_model(model)`. This file format is considered legacy. We recommend using instead the native Keras format, e.g. `model.save('my_model.keras')` or `keras.saving.save_model(model, 'my_model.keras')`. \n"
          ]
        },
        {
          "metadata": {
            "tags": null
          },
          "name": "stdout",
          "output_type": "stream",
          "text": [
            "448/448 - 36s - 81ms/step - accuracy: 0.7023 - loss: 0.7988 - val_accuracy: 0.6756 - val_loss: 0.9085 - learning_rate: 2.0000e-04\n",
            "Epoch 54/300\n",
            "\n",
            "Epoch 54: val_accuracy did not improve from 0.67564\n",
            "448/448 - 2s - 5ms/step - accuracy: 0.6406 - loss: 0.8494 - val_accuracy: 0.6754 - val_loss: 0.9086 - learning_rate: 2.0000e-04\n",
            "Epoch 55/300\n",
            "\n",
            "Epoch 55: val_accuracy improved from 0.67564 to 0.67913, saving model to best_model.h5\n"
          ]
        },
        {
          "metadata": {
            "tags": null
          },
          "name": "stderr",
          "output_type": "stream",
          "text": [
            "WARNING:absl:You are saving your model as an HDF5 file via `model.save()` or `keras.saving.save_model(model)`. This file format is considered legacy. We recommend using instead the native Keras format, e.g. `model.save('my_model.keras')` or `keras.saving.save_model(model, 'my_model.keras')`. \n"
          ]
        },
        {
          "metadata": {
            "tags": null
          },
          "name": "stdout",
          "output_type": "stream",
          "text": [
            "448/448 - 42s - 93ms/step - accuracy: 0.7063 - loss: 0.7888 - val_accuracy: 0.6791 - val_loss: 0.9042 - learning_rate: 2.0000e-04\n",
            "Epoch 56/300\n",
            "\n",
            "Epoch 56: val_accuracy did not improve from 0.67913\n",
            "448/448 - 2s - 6ms/step - accuracy: 0.7656 - loss: 0.9530 - val_accuracy: 0.6790 - val_loss: 0.9037 - learning_rate: 2.0000e-04\n",
            "Epoch 57/300\n",
            "\n",
            "Epoch 57: val_accuracy did not improve from 0.67913\n",
            "448/448 - 25s - 57ms/step - accuracy: 0.7076 - loss: 0.7835 - val_accuracy: 0.6741 - val_loss: 0.9038 - learning_rate: 2.0000e-04\n",
            "Epoch 58/300\n",
            "\n",
            "Epoch 58: val_accuracy did not improve from 0.67913\n",
            "448/448 - 2s - 5ms/step - accuracy: 0.5781 - loss: 0.8307 - val_accuracy: 0.6748 - val_loss: 0.9043 - learning_rate: 2.0000e-04\n",
            "Epoch 59/300\n",
            "\n",
            "Epoch 59: val_accuracy did not improve from 0.67913\n",
            "448/448 - 38s - 86ms/step - accuracy: 0.7122 - loss: 0.7768 - val_accuracy: 0.6719 - val_loss: 0.9044 - learning_rate: 2.0000e-04\n",
            "Epoch 60/300\n",
            "\n",
            "Epoch 60: val_accuracy did not improve from 0.67913\n",
            "448/448 - 2s - 5ms/step - accuracy: 0.6719 - loss: 0.8048 - val_accuracy: 0.6722 - val_loss: 0.9048 - learning_rate: 2.0000e-04\n",
            "Epoch 61/300\n",
            "\n",
            "Epoch 61: val_accuracy did not improve from 0.67913\n",
            "448/448 - 25s - 56ms/step - accuracy: 0.7142 - loss: 0.7660 - val_accuracy: 0.6769 - val_loss: 0.9160 - learning_rate: 2.0000e-04\n",
            "Epoch 62/300\n",
            "\n",
            "Epoch 62: val_accuracy did not improve from 0.67913\n",
            "448/448 - 2s - 5ms/step - accuracy: 0.7656 - loss: 0.6758 - val_accuracy: 0.6770 - val_loss: 0.9157 - learning_rate: 2.0000e-04\n",
            "Epoch 63/300\n",
            "\n",
            "Epoch 63: val_accuracy did not improve from 0.67913\n",
            "448/448 - 42s - 94ms/step - accuracy: 0.7175 - loss: 0.7597 - val_accuracy: 0.6772 - val_loss: 0.9138 - learning_rate: 2.0000e-04\n",
            "Epoch 64/300\n",
            "\n",
            "Epoch 64: val_accuracy did not improve from 0.67913\n",
            "448/448 - 4s - 10ms/step - accuracy: 0.6719 - loss: 0.6824 - val_accuracy: 0.6783 - val_loss: 0.9152 - learning_rate: 2.0000e-04\n",
            "Epoch 65/300\n",
            "\n",
            "Epoch 65: val_accuracy improved from 0.67913 to 0.68318, saving model to best_model.h5\n"
          ]
        },
        {
          "metadata": {
            "tags": null
          },
          "name": "stderr",
          "output_type": "stream",
          "text": [
            "WARNING:absl:You are saving your model as an HDF5 file via `model.save()` or `keras.saving.save_model(model)`. This file format is considered legacy. We recommend using instead the native Keras format, e.g. `model.save('my_model.keras')` or `keras.saving.save_model(model, 'my_model.keras')`. \n"
          ]
        },
        {
          "metadata": {
            "tags": null
          },
          "name": "stdout",
          "output_type": "stream",
          "text": [
            "448/448 - 41s - 91ms/step - accuracy: 0.7172 - loss: 0.7584 - val_accuracy: 0.6832 - val_loss: 0.9214 - learning_rate: 2.0000e-04\n",
            "Epoch 66/300\n",
            "\n",
            "Epoch 66: ReduceLROnPlateau reducing learning rate to 4.0000001899898055e-05.\n",
            "\n",
            "Epoch 66: val_accuracy did not improve from 0.68318\n",
            "448/448 - 2s - 5ms/step - accuracy: 0.6250 - loss: 0.9917 - val_accuracy: 0.6829 - val_loss: 0.9203 - learning_rate: 2.0000e-04\n",
            "Epoch 67/300\n",
            "\n",
            "Epoch 67: val_accuracy did not improve from 0.68318\n",
            "448/448 - 25s - 57ms/step - accuracy: 0.7213 - loss: 0.7442 - val_accuracy: 0.6818 - val_loss: 0.9004 - learning_rate: 4.0000e-05\n",
            "Epoch 68/300\n",
            "\n",
            "Epoch 68: val_accuracy did not improve from 0.68318\n",
            "448/448 - 2s - 5ms/step - accuracy: 0.7969 - loss: 0.6160 - val_accuracy: 0.6819 - val_loss: 0.9004 - learning_rate: 4.0000e-05\n",
            "Epoch 69/300\n",
            "\n",
            "Epoch 69: val_accuracy did not improve from 0.68318\n",
            "448/448 - 41s - 92ms/step - accuracy: 0.7227 - loss: 0.7405 - val_accuracy: 0.6805 - val_loss: 0.9054 - learning_rate: 4.0000e-05\n",
            "Epoch 70/300\n",
            "\n",
            "Epoch 70: val_accuracy did not improve from 0.68318\n",
            "448/448 - 2s - 5ms/step - accuracy: 0.7500 - loss: 0.6938 - val_accuracy: 0.6811 - val_loss: 0.9053 - learning_rate: 4.0000e-05\n",
            "Epoch 71/300\n",
            "\n",
            "Epoch 71: val_accuracy improved from 0.68318 to 0.68387, saving model to best_model.h5\n"
          ]
        },
        {
          "metadata": {
            "tags": null
          },
          "name": "stderr",
          "output_type": "stream",
          "text": [
            "WARNING:absl:You are saving your model as an HDF5 file via `model.save()` or `keras.saving.save_model(model)`. This file format is considered legacy. We recommend using instead the native Keras format, e.g. `model.save('my_model.keras')` or `keras.saving.save_model(model, 'my_model.keras')`. \n"
          ]
        },
        {
          "metadata": {
            "tags": null
          },
          "name": "stdout",
          "output_type": "stream",
          "text": [
            "448/448 - 37s - 82ms/step - accuracy: 0.7224 - loss: 0.7418 - val_accuracy: 0.6839 - val_loss: 0.8990 - learning_rate: 4.0000e-05\n",
            "Epoch 72/300\n",
            "\n",
            "Epoch 72: val_accuracy did not improve from 0.68387\n",
            "448/448 - 2s - 5ms/step - accuracy: 0.7812 - loss: 0.6188 - val_accuracy: 0.6837 - val_loss: 0.8990 - learning_rate: 4.0000e-05\n",
            "Epoch 73/300\n",
            "\n",
            "Epoch 73: val_accuracy did not improve from 0.68387\n",
            "448/448 - 41s - 91ms/step - accuracy: 0.7243 - loss: 0.7396 - val_accuracy: 0.6822 - val_loss: 0.9015 - learning_rate: 4.0000e-05\n",
            "Epoch 74/300\n",
            "\n",
            "Epoch 74: val_accuracy did not improve from 0.68387\n",
            "448/448 - 2s - 5ms/step - accuracy: 0.7344 - loss: 0.6861 - val_accuracy: 0.6825 - val_loss: 0.9018 - learning_rate: 4.0000e-05\n",
            "Epoch 75/300\n",
            "\n",
            "Epoch 75: val_accuracy improved from 0.68387 to 0.68429, saving model to best_model.h5\n"
          ]
        },
        {
          "metadata": {
            "tags": null
          },
          "name": "stderr",
          "output_type": "stream",
          "text": [
            "WARNING:absl:You are saving your model as an HDF5 file via `model.save()` or `keras.saving.save_model(model)`. This file format is considered legacy. We recommend using instead the native Keras format, e.g. `model.save('my_model.keras')` or `keras.saving.save_model(model, 'my_model.keras')`. \n"
          ]
        },
        {
          "metadata": {
            "tags": null
          },
          "name": "stdout",
          "output_type": "stream",
          "text": [
            "448/448 - 25s - 56ms/step - accuracy: 0.7245 - loss: 0.7397 - val_accuracy: 0.6843 - val_loss: 0.9026 - learning_rate: 4.0000e-05\n",
            "Epoch 76/300\n",
            "\n",
            "Epoch 76: val_accuracy improved from 0.68429 to 0.68443, saving model to best_model.h5\n"
          ]
        },
        {
          "metadata": {
            "tags": null
          },
          "name": "stderr",
          "output_type": "stream",
          "text": [
            "WARNING:absl:You are saving your model as an HDF5 file via `model.save()` or `keras.saving.save_model(model)`. This file format is considered legacy. We recommend using instead the native Keras format, e.g. `model.save('my_model.keras')` or `keras.saving.save_model(model, 'my_model.keras')`. \n"
          ]
        },
        {
          "metadata": {
            "tags": null
          },
          "name": "stdout",
          "output_type": "stream",
          "text": [
            "448/448 - 3s - 6ms/step - accuracy: 0.7344 - loss: 0.7101 - val_accuracy: 0.6844 - val_loss: 0.9026 - learning_rate: 4.0000e-05\n",
            "Epoch 77/300\n",
            "\n",
            "Epoch 77: val_accuracy did not improve from 0.68443\n",
            "448/448 - 38s - 84ms/step - accuracy: 0.7261 - loss: 0.7311 - val_accuracy: 0.6830 - val_loss: 0.9019 - learning_rate: 4.0000e-05\n",
            "Epoch 78/300\n",
            "\n",
            "Epoch 78: val_accuracy did not improve from 0.68443\n",
            "448/448 - 2s - 5ms/step - accuracy: 0.8125 - loss: 0.5606 - val_accuracy: 0.6829 - val_loss: 0.9019 - learning_rate: 4.0000e-05\n",
            "Epoch 79/300\n",
            "\n",
            "Epoch 79: val_accuracy improved from 0.68443 to 0.68513, saving model to best_model.h5\n"
          ]
        },
        {
          "metadata": {
            "tags": null
          },
          "name": "stderr",
          "output_type": "stream",
          "text": [
            "WARNING:absl:You are saving your model as an HDF5 file via `model.save()` or `keras.saving.save_model(model)`. This file format is considered legacy. We recommend using instead the native Keras format, e.g. `model.save('my_model.keras')` or `keras.saving.save_model(model, 'my_model.keras')`. \n"
          ]
        },
        {
          "metadata": {
            "tags": null
          },
          "name": "stdout",
          "output_type": "stream",
          "text": [
            "448/448 - 41s - 92ms/step - accuracy: 0.7247 - loss: 0.7317 - val_accuracy: 0.6851 - val_loss: 0.9000 - learning_rate: 4.0000e-05\n",
            "Epoch 80/300\n",
            "\n",
            "Epoch 80: val_accuracy did not improve from 0.68513\n",
            "448/448 - 2s - 5ms/step - accuracy: 0.6875 - loss: 0.7133 - val_accuracy: 0.6851 - val_loss: 0.9003 - learning_rate: 4.0000e-05\n",
            "Epoch 81/300\n",
            "\n",
            "Epoch 81: ReduceLROnPlateau reducing learning rate to 1e-05.\n",
            "\n",
            "Epoch 81: val_accuracy did not improve from 0.68513\n",
            "448/448 - 41s - 91ms/step - accuracy: 0.7293 - loss: 0.7326 - val_accuracy: 0.6823 - val_loss: 0.9047 - learning_rate: 4.0000e-05\n",
            "Epoch 82/300\n",
            "\n",
            "Epoch 82: val_accuracy did not improve from 0.68513\n",
            "448/448 - 3s - 6ms/step - accuracy: 0.8281 - loss: 0.6770 - val_accuracy: 0.6822 - val_loss: 0.9047 - learning_rate: 1.0000e-05\n",
            "Epoch 83/300\n",
            "\n",
            "Epoch 83: val_accuracy did not improve from 0.68513\n",
            "448/448 - 63s - 142ms/step - accuracy: 0.7287 - loss: 0.7258 - val_accuracy: 0.6842 - val_loss: 0.9024 - learning_rate: 1.0000e-05\n",
            "Epoch 84/300\n",
            "\n",
            "Epoch 84: val_accuracy did not improve from 0.68513\n",
            "448/448 - 2s - 5ms/step - accuracy: 0.6875 - loss: 0.7234 - val_accuracy: 0.6843 - val_loss: 0.9023 - learning_rate: 1.0000e-05\n",
            "Epoch 85/300\n",
            "\n",
            "Epoch 85: val_accuracy did not improve from 0.68513\n",
            "448/448 - 41s - 91ms/step - accuracy: 0.7316 - loss: 0.7236 - val_accuracy: 0.6850 - val_loss: 0.9032 - learning_rate: 1.0000e-05\n",
            "Epoch 86/300\n",
            "\n",
            "Epoch 86: val_accuracy did not improve from 0.68513\n",
            "448/448 - 2s - 5ms/step - accuracy: 0.6406 - loss: 0.8167 - val_accuracy: 0.6850 - val_loss: 0.9030 - learning_rate: 1.0000e-05\n",
            "Epoch 87/300\n",
            "\n",
            "Epoch 87: val_accuracy did not improve from 0.68513\n",
            "448/448 - 25s - 55ms/step - accuracy: 0.7291 - loss: 0.7231 - val_accuracy: 0.6844 - val_loss: 0.9031 - learning_rate: 1.0000e-05\n",
            "Epoch 88/300\n",
            "\n",
            "Epoch 88: val_accuracy did not improve from 0.68513\n",
            "448/448 - 2s - 5ms/step - accuracy: 0.6562 - loss: 0.8392 - val_accuracy: 0.6848 - val_loss: 0.9032 - learning_rate: 1.0000e-05\n",
            "Epoch 89/300\n",
            "\n",
            "Epoch 89: val_accuracy did not improve from 0.68513\n",
            "448/448 - 39s - 86ms/step - accuracy: 0.7311 - loss: 0.7251 - val_accuracy: 0.6847 - val_loss: 0.9033 - learning_rate: 1.0000e-05\n",
            "Epoch 90/300\n",
            "\n",
            "Epoch 90: val_accuracy did not improve from 0.68513\n",
            "448/448 - 5s - 10ms/step - accuracy: 0.7344 - loss: 0.9259 - val_accuracy: 0.6846 - val_loss: 0.9033 - learning_rate: 1.0000e-05\n",
            "Epoch 91/300\n",
            "\n",
            "Epoch 91: val_accuracy did not improve from 0.68513\n",
            "448/448 - 41s - 91ms/step - accuracy: 0.7324 - loss: 0.7200 - val_accuracy: 0.6837 - val_loss: 0.9036 - learning_rate: 1.0000e-05\n",
            "Epoch 92/300\n",
            "\n",
            "Epoch 92: val_accuracy did not improve from 0.68513\n",
            "448/448 - 2s - 5ms/step - accuracy: 0.7031 - loss: 0.7732 - val_accuracy: 0.6836 - val_loss: 0.9036 - learning_rate: 1.0000e-05\n",
            "Epoch 93/300\n",
            "\n",
            "Epoch 93: val_accuracy did not improve from 0.68513\n",
            "448/448 - 25s - 56ms/step - accuracy: 0.7293 - loss: 0.7262 - val_accuracy: 0.6833 - val_loss: 0.9027 - learning_rate: 1.0000e-05\n",
            "Epoch 94/300\n",
            "\n",
            "Epoch 94: val_accuracy did not improve from 0.68513\n",
            "448/448 - 2s - 5ms/step - accuracy: 0.8438 - loss: 0.5710 - val_accuracy: 0.6835 - val_loss: 0.9028 - learning_rate: 1.0000e-05\n",
            "Epoch 95/300\n",
            "\n",
            "Epoch 95: val_accuracy did not improve from 0.68513\n",
            "448/448 - 38s - 86ms/step - accuracy: 0.7271 - loss: 0.7227 - val_accuracy: 0.6839 - val_loss: 0.9022 - learning_rate: 1.0000e-05\n",
            "Epoch 96/300\n",
            "\n",
            "Epoch 96: val_accuracy did not improve from 0.68513\n",
            "448/448 - 2s - 5ms/step - accuracy: 0.7656 - loss: 0.6382 - val_accuracy: 0.6839 - val_loss: 0.9021 - learning_rate: 1.0000e-05\n",
            "Epoch 97/300\n",
            "\n",
            "Epoch 97: val_accuracy did not improve from 0.68513\n",
            "448/448 - 41s - 91ms/step - accuracy: 0.7242 - loss: 0.7283 - val_accuracy: 0.6847 - val_loss: 0.9015 - learning_rate: 1.0000e-05\n",
            "Epoch 98/300\n",
            "\n",
            "Epoch 98: val_accuracy did not improve from 0.68513\n",
            "448/448 - 2s - 5ms/step - accuracy: 0.7656 - loss: 0.6692 - val_accuracy: 0.6847 - val_loss: 0.9013 - learning_rate: 1.0000e-05\n",
            "Epoch 99/300\n",
            "\n",
            "Epoch 99: val_accuracy did not improve from 0.68513\n",
            "448/448 - 25s - 56ms/step - accuracy: 0.7289 - loss: 0.7243 - val_accuracy: 0.6837 - val_loss: 0.9006 - learning_rate: 1.0000e-05\n",
            "Epoch 100/300\n",
            "\n",
            "Epoch 100: val_accuracy did not improve from 0.68513\n",
            "448/448 - 2s - 5ms/step - accuracy: 0.8281 - loss: 0.5580 - val_accuracy: 0.6835 - val_loss: 0.9005 - learning_rate: 1.0000e-05\n",
            "Epoch 101/300\n",
            "\n",
            "Epoch 101: val_accuracy did not improve from 0.68513\n",
            "448/448 - 41s - 92ms/step - accuracy: 0.7294 - loss: 0.7250 - val_accuracy: 0.6848 - val_loss: 0.9018 - learning_rate: 1.0000e-05\n",
            "Epoch 102/300\n",
            "\n",
            "Epoch 102: val_accuracy did not improve from 0.68513\n",
            "448/448 - 3s - 6ms/step - accuracy: 0.7969 - loss: 0.6093 - val_accuracy: 0.6850 - val_loss: 0.9017 - learning_rate: 1.0000e-05\n",
            "Epoch 103/300\n",
            "\n",
            "Epoch 103: val_accuracy did not improve from 0.68513\n",
            "448/448 - 41s - 91ms/step - accuracy: 0.7304 - loss: 0.7216 - val_accuracy: 0.6842 - val_loss: 0.9006 - learning_rate: 1.0000e-05\n",
            "Epoch 104/300\n",
            "\n",
            "Epoch 104: val_accuracy did not improve from 0.68513\n",
            "448/448 - 2s - 5ms/step - accuracy: 0.6875 - loss: 0.6871 - val_accuracy: 0.6843 - val_loss: 0.9007 - learning_rate: 1.0000e-05\n",
            "Epoch 105/300\n",
            "\n",
            "Epoch 105: val_accuracy did not improve from 0.68513\n",
            "448/448 - 41s - 91ms/step - accuracy: 0.7313 - loss: 0.7209 - val_accuracy: 0.6848 - val_loss: 0.9034 - learning_rate: 1.0000e-05\n",
            "Epoch 106/300\n",
            "\n",
            "Epoch 106: val_accuracy did not improve from 0.68513\n",
            "448/448 - 2s - 5ms/step - accuracy: 0.8125 - loss: 0.7043 - val_accuracy: 0.6846 - val_loss: 0.9036 - learning_rate: 1.0000e-05\n",
            "Epoch 107/300\n",
            "\n",
            "Epoch 107: val_accuracy did not improve from 0.68513\n",
            "448/448 - 25s - 56ms/step - accuracy: 0.7312 - loss: 0.7170 - val_accuracy: 0.6844 - val_loss: 0.9021 - learning_rate: 1.0000e-05\n",
            "Epoch 108/300\n",
            "\n",
            "Epoch 108: val_accuracy did not improve from 0.68513\n",
            "448/448 - 3s - 7ms/step - accuracy: 0.7031 - loss: 0.8622 - val_accuracy: 0.6843 - val_loss: 0.9021 - learning_rate: 1.0000e-05\n",
            "Epoch 109/300\n",
            "\n",
            "Epoch 109: val_accuracy did not improve from 0.68513\n",
            "448/448 - 25s - 55ms/step - accuracy: 0.7296 - loss: 0.7261 - val_accuracy: 0.6830 - val_loss: 0.9035 - learning_rate: 1.0000e-05\n",
            "Epoch 110/300\n",
            "\n",
            "Epoch 110: val_accuracy did not improve from 0.68513\n",
            "448/448 - 3s - 6ms/step - accuracy: 0.6719 - loss: 0.9002 - val_accuracy: 0.6830 - val_loss: 0.9036 - learning_rate: 1.0000e-05\n",
            "Epoch 111/300\n",
            "\n",
            "Epoch 111: val_accuracy did not improve from 0.68513\n",
            "448/448 - 41s - 91ms/step - accuracy: 0.7338 - loss: 0.7133 - val_accuracy: 0.6839 - val_loss: 0.9014 - learning_rate: 1.0000e-05\n",
            "Epoch 112/300\n",
            "\n",
            "Epoch 112: val_accuracy did not improve from 0.68513\n",
            "448/448 - 2s - 5ms/step - accuracy: 0.7656 - loss: 0.6649 - val_accuracy: 0.6837 - val_loss: 0.9014 - learning_rate: 1.0000e-05\n",
            "Epoch 113/300\n",
            "\n",
            "Epoch 113: val_accuracy did not improve from 0.68513\n",
            "448/448 - 41s - 92ms/step - accuracy: 0.7324 - loss: 0.7178 - val_accuracy: 0.6840 - val_loss: 0.9038 - learning_rate: 1.0000e-05\n",
            "Epoch 114/300\n",
            "\n",
            "Epoch 114: val_accuracy did not improve from 0.68513\n",
            "448/448 - 3s - 6ms/step - accuracy: 0.7656 - loss: 0.5615 - val_accuracy: 0.6837 - val_loss: 0.9037 - learning_rate: 1.0000e-05\n",
            "Epoch 115/300\n",
            "\n",
            "Epoch 115: val_accuracy did not improve from 0.68513\n",
            "448/448 - 81s - 182ms/step - accuracy: 0.7326 - loss: 0.7193 - val_accuracy: 0.6843 - val_loss: 0.9036 - learning_rate: 1.0000e-05\n",
            "Epoch 116/300\n",
            "\n",
            "Epoch 116: val_accuracy did not improve from 0.68513\n",
            "448/448 - 2s - 5ms/step - accuracy: 0.7812 - loss: 0.8272 - val_accuracy: 0.6840 - val_loss: 0.9034 - learning_rate: 1.0000e-05\n",
            "Epoch 117/300\n",
            "\n",
            "Epoch 117: val_accuracy did not improve from 0.68513\n",
            "448/448 - 82s - 183ms/step - accuracy: 0.7324 - loss: 0.7192 - val_accuracy: 0.6851 - val_loss: 0.9008 - learning_rate: 1.0000e-05\n",
            "Epoch 118/300\n",
            "\n",
            "Epoch 118: val_accuracy improved from 0.68513 to 0.68541, saving model to best_model.h5\n"
          ]
        },
        {
          "metadata": {
            "tags": null
          },
          "name": "stderr",
          "output_type": "stream",
          "text": [
            "WARNING:absl:You are saving your model as an HDF5 file via `model.save()` or `keras.saving.save_model(model)`. This file format is considered legacy. We recommend using instead the native Keras format, e.g. `model.save('my_model.keras')` or `keras.saving.save_model(model, 'my_model.keras')`. \n"
          ]
        },
        {
          "metadata": {
            "tags": null
          },
          "name": "stdout",
          "output_type": "stream",
          "text": [
            "448/448 - 3s - 6ms/step - accuracy: 0.7031 - loss: 0.8059 - val_accuracy: 0.6854 - val_loss: 0.9008 - learning_rate: 1.0000e-05\n",
            "Epoch 119/300\n",
            "\n",
            "Epoch 119: val_accuracy did not improve from 0.68541\n",
            "448/448 - 82s - 182ms/step - accuracy: 0.7317 - loss: 0.7172 - val_accuracy: 0.6829 - val_loss: 0.9003 - learning_rate: 1.0000e-05\n",
            "Epoch 120/300\n",
            "\n",
            "Epoch 120: val_accuracy did not improve from 0.68541\n",
            "448/448 - 2s - 5ms/step - accuracy: 0.7344 - loss: 0.8805 - val_accuracy: 0.6836 - val_loss: 0.9005 - learning_rate: 1.0000e-05\n",
            "Epoch 121/300\n",
            "\n",
            "Epoch 121: val_accuracy did not improve from 0.68541\n",
            "448/448 - 57s - 128ms/step - accuracy: 0.7265 - loss: 0.7210 - val_accuracy: 0.6844 - val_loss: 0.9033 - learning_rate: 1.0000e-05\n",
            "Epoch 122/300\n",
            "\n",
            "Epoch 122: val_accuracy did not improve from 0.68541\n",
            "448/448 - 2s - 5ms/step - accuracy: 0.7188 - loss: 0.7873 - val_accuracy: 0.6844 - val_loss: 0.9033 - learning_rate: 1.0000e-05\n",
            "Epoch 123/300\n",
            "\n",
            "Epoch 123: val_accuracy did not improve from 0.68541\n",
            "448/448 - 25s - 56ms/step - accuracy: 0.7316 - loss: 0.7185 - val_accuracy: 0.6846 - val_loss: 0.9022 - learning_rate: 1.0000e-05\n",
            "Epoch 124/300\n",
            "\n",
            "Epoch 124: val_accuracy did not improve from 0.68541\n",
            "448/448 - 2s - 5ms/step - accuracy: 0.7969 - loss: 0.6356 - val_accuracy: 0.6840 - val_loss: 0.9023 - learning_rate: 1.0000e-05\n",
            "Epoch 125/300\n",
            "\n",
            "Epoch 125: val_accuracy did not improve from 0.68541\n",
            "448/448 - 41s - 92ms/step - accuracy: 0.7317 - loss: 0.7180 - val_accuracy: 0.6851 - val_loss: 0.9030 - learning_rate: 1.0000e-05\n",
            "Epoch 126/300\n",
            "\n",
            "Epoch 126: val_accuracy did not improve from 0.68541\n",
            "448/448 - 2s - 5ms/step - accuracy: 0.7969 - loss: 0.6913 - val_accuracy: 0.6851 - val_loss: 0.9032 - learning_rate: 1.0000e-05\n",
            "Epoch 127/300\n",
            "\n",
            "Epoch 127: val_accuracy did not improve from 0.68541\n",
            "448/448 - 25s - 56ms/step - accuracy: 0.7306 - loss: 0.7186 - val_accuracy: 0.6832 - val_loss: 0.9041 - learning_rate: 1.0000e-05\n",
            "Epoch 128/300\n",
            "\n",
            "Epoch 128: val_accuracy did not improve from 0.68541\n",
            "448/448 - 2s - 5ms/step - accuracy: 0.6094 - loss: 1.1064 - val_accuracy: 0.6833 - val_loss: 0.9043 - learning_rate: 1.0000e-05\n",
            "Epoch 129/300\n",
            "\n",
            "Epoch 129: val_accuracy did not improve from 0.68541\n",
            "448/448 - 25s - 56ms/step - accuracy: 0.7316 - loss: 0.7162 - val_accuracy: 0.6823 - val_loss: 0.9043 - learning_rate: 1.0000e-05\n",
            "Epoch 130/300\n",
            "\n",
            "Epoch 130: val_accuracy did not improve from 0.68541\n",
            "448/448 - 2s - 5ms/step - accuracy: 0.7344 - loss: 0.5503 - val_accuracy: 0.6821 - val_loss: 0.9041 - learning_rate: 1.0000e-05\n",
            "Epoch 131/300\n",
            "\n",
            "Epoch 131: val_accuracy did not improve from 0.68541\n",
            "448/448 - 40s - 90ms/step - accuracy: 0.7304 - loss: 0.7205 - val_accuracy: 0.6829 - val_loss: 0.9035 - learning_rate: 1.0000e-05\n",
            "Epoch 132/300\n",
            "\n",
            "Epoch 132: val_accuracy did not improve from 0.68541\n",
            "448/448 - 2s - 5ms/step - accuracy: 0.7969 - loss: 0.6363 - val_accuracy: 0.6830 - val_loss: 0.9032 - learning_rate: 1.0000e-05\n",
            "Epoch 133/300\n",
            "\n",
            "Epoch 133: val_accuracy did not improve from 0.68541\n",
            "448/448 - 25s - 57ms/step - accuracy: 0.7307 - loss: 0.7154 - val_accuracy: 0.6850 - val_loss: 0.9027 - learning_rate: 1.0000e-05\n",
            "Epoch 134/300\n",
            "\n",
            "Epoch 134: val_accuracy did not improve from 0.68541\n",
            "448/448 - 2s - 5ms/step - accuracy: 0.5781 - loss: 0.8205 - val_accuracy: 0.6848 - val_loss: 0.9026 - learning_rate: 1.0000e-05\n",
            "Epoch 135/300\n",
            "\n",
            "Epoch 135: val_accuracy improved from 0.68541 to 0.68555, saving model to best_model.h5\n"
          ]
        },
        {
          "metadata": {
            "tags": null
          },
          "name": "stderr",
          "output_type": "stream",
          "text": [
            "WARNING:absl:You are saving your model as an HDF5 file via `model.save()` or `keras.saving.save_model(model)`. This file format is considered legacy. We recommend using instead the native Keras format, e.g. `model.save('my_model.keras')` or `keras.saving.save_model(model, 'my_model.keras')`. \n"
          ]
        },
        {
          "metadata": {
            "tags": null
          },
          "name": "stdout",
          "output_type": "stream",
          "text": [
            "448/448 - 25s - 57ms/step - accuracy: 0.7347 - loss: 0.7134 - val_accuracy: 0.6855 - val_loss: 0.9040 - learning_rate: 1.0000e-05\n",
            "Epoch 136/300\n",
            "\n",
            "Epoch 136: val_accuracy improved from 0.68555 to 0.68569, saving model to best_model.h5\n"
          ]
        },
        {
          "metadata": {
            "tags": null
          },
          "name": "stderr",
          "output_type": "stream",
          "text": [
            "WARNING:absl:You are saving your model as an HDF5 file via `model.save()` or `keras.saving.save_model(model)`. This file format is considered legacy. We recommend using instead the native Keras format, e.g. `model.save('my_model.keras')` or `keras.saving.save_model(model, 'my_model.keras')`. \n"
          ]
        },
        {
          "metadata": {
            "tags": null
          },
          "name": "stdout",
          "output_type": "stream",
          "text": [
            "448/448 - 2s - 5ms/step - accuracy: 0.7344 - loss: 0.6537 - val_accuracy: 0.6857 - val_loss: 0.9041 - learning_rate: 1.0000e-05\n",
            "Epoch 137/300\n",
            "\n",
            "Epoch 137: val_accuracy did not improve from 0.68569\n",
            "448/448 - 41s - 92ms/step - accuracy: 0.7294 - loss: 0.7121 - val_accuracy: 0.6855 - val_loss: 0.9046 - learning_rate: 1.0000e-05\n",
            "Epoch 138/300\n",
            "\n",
            "Epoch 138: val_accuracy did not improve from 0.68569\n",
            "448/448 - 5s - 10ms/step - accuracy: 0.7031 - loss: 0.6649 - val_accuracy: 0.6855 - val_loss: 0.9046 - learning_rate: 1.0000e-05\n",
            "Epoch 139/300\n",
            "\n",
            "Epoch 139: val_accuracy did not improve from 0.68569\n",
            "448/448 - 41s - 91ms/step - accuracy: 0.7348 - loss: 0.7151 - val_accuracy: 0.6854 - val_loss: 0.9034 - learning_rate: 1.0000e-05\n",
            "Epoch 140/300\n",
            "\n",
            "Epoch 140: val_accuracy improved from 0.68569 to 0.68583, saving model to best_model.h5\n"
          ]
        },
        {
          "metadata": {
            "tags": null
          },
          "name": "stderr",
          "output_type": "stream",
          "text": [
            "WARNING:absl:You are saving your model as an HDF5 file via `model.save()` or `keras.saving.save_model(model)`. This file format is considered legacy. We recommend using instead the native Keras format, e.g. `model.save('my_model.keras')` or `keras.saving.save_model(model, 'my_model.keras')`. \n"
          ]
        },
        {
          "metadata": {
            "tags": null
          },
          "name": "stdout",
          "output_type": "stream",
          "text": [
            "448/448 - 2s - 5ms/step - accuracy: 0.6406 - loss: 0.9057 - val_accuracy: 0.6858 - val_loss: 0.9034 - learning_rate: 1.0000e-05\n",
            "Epoch 141/300\n",
            "\n",
            "Epoch 141: val_accuracy did not improve from 0.68583\n",
            "448/448 - 25s - 55ms/step - accuracy: 0.7336 - loss: 0.7152 - val_accuracy: 0.6846 - val_loss: 0.9027 - learning_rate: 1.0000e-05\n",
            "Epoch 142/300\n",
            "\n",
            "Epoch 142: val_accuracy did not improve from 0.68583\n",
            "448/448 - 2s - 5ms/step - accuracy: 0.7656 - loss: 0.6963 - val_accuracy: 0.6850 - val_loss: 0.9027 - learning_rate: 1.0000e-05\n",
            "Epoch 143/300\n",
            "\n",
            "Epoch 143: val_accuracy did not improve from 0.68583\n",
            "448/448 - 42s - 93ms/step - accuracy: 0.7324 - loss: 0.7145 - val_accuracy: 0.6840 - val_loss: 0.9032 - learning_rate: 1.0000e-05\n",
            "Epoch 144/300\n",
            "\n",
            "Epoch 144: val_accuracy did not improve from 0.68583\n",
            "448/448 - 4s - 10ms/step - accuracy: 0.7656 - loss: 0.8101 - val_accuracy: 0.6842 - val_loss: 0.9029 - learning_rate: 1.0000e-05\n",
            "Epoch 145/300\n",
            "\n",
            "Epoch 145: val_accuracy did not improve from 0.68583\n",
            "448/448 - 25s - 55ms/step - accuracy: 0.7362 - loss: 0.7127 - val_accuracy: 0.6858 - val_loss: 0.9031 - learning_rate: 1.0000e-05\n",
            "Epoch 146/300\n",
            "\n",
            "Epoch 146: val_accuracy did not improve from 0.68583\n",
            "448/448 - 2s - 5ms/step - accuracy: 0.7188 - loss: 0.6775 - val_accuracy: 0.6851 - val_loss: 0.9030 - learning_rate: 1.0000e-05\n",
            "Epoch 147/300\n",
            "\n",
            "Epoch 147: val_accuracy did not improve from 0.68583\n",
            "448/448 - 41s - 91ms/step - accuracy: 0.7341 - loss: 0.7116 - val_accuracy: 0.6850 - val_loss: 0.9054 - learning_rate: 1.0000e-05\n",
            "Epoch 148/300\n",
            "\n",
            "Epoch 148: val_accuracy did not improve from 0.68583\n",
            "448/448 - 2s - 5ms/step - accuracy: 0.7969 - loss: 0.6394 - val_accuracy: 0.6850 - val_loss: 0.9054 - learning_rate: 1.0000e-05\n",
            "Epoch 149/300\n",
            "\n",
            "Epoch 149: val_accuracy improved from 0.68583 to 0.68610, saving model to best_model.h5\n"
          ]
        },
        {
          "metadata": {
            "tags": null
          },
          "name": "stderr",
          "output_type": "stream",
          "text": [
            "WARNING:absl:You are saving your model as an HDF5 file via `model.save()` or `keras.saving.save_model(model)`. This file format is considered legacy. We recommend using instead the native Keras format, e.g. `model.save('my_model.keras')` or `keras.saving.save_model(model, 'my_model.keras')`. \n"
          ]
        },
        {
          "metadata": {
            "tags": null
          },
          "name": "stdout",
          "output_type": "stream",
          "text": [
            "448/448 - 41s - 92ms/step - accuracy: 0.7333 - loss: 0.7070 - val_accuracy: 0.6861 - val_loss: 0.9046 - learning_rate: 1.0000e-05\n",
            "Epoch 150/300\n",
            "\n",
            "Epoch 150: val_accuracy did not improve from 0.68610\n",
            "448/448 - 2s - 5ms/step - accuracy: 0.5938 - loss: 0.9874 - val_accuracy: 0.6858 - val_loss: 0.9047 - learning_rate: 1.0000e-05\n",
            "Epoch 151/300\n",
            "\n",
            "Epoch 151: val_accuracy did not improve from 0.68610\n",
            "448/448 - 41s - 91ms/step - accuracy: 0.7319 - loss: 0.7165 - val_accuracy: 0.6843 - val_loss: 0.9030 - learning_rate: 1.0000e-05\n",
            "Epoch 152/300\n",
            "\n",
            "Epoch 152: val_accuracy did not improve from 0.68610\n",
            "448/448 - 2s - 5ms/step - accuracy: 0.8281 - loss: 0.5464 - val_accuracy: 0.6844 - val_loss: 0.9030 - learning_rate: 1.0000e-05\n",
            "Epoch 153/300\n",
            "\n",
            "Epoch 153: val_accuracy did not improve from 0.68610\n",
            "448/448 - 82s - 183ms/step - accuracy: 0.7346 - loss: 0.7165 - val_accuracy: 0.6846 - val_loss: 0.9021 - learning_rate: 1.0000e-05\n",
            "Epoch 154/300\n",
            "\n",
            "Epoch 154: val_accuracy did not improve from 0.68610\n",
            "448/448 - 2s - 5ms/step - accuracy: 0.7969 - loss: 0.7171 - val_accuracy: 0.6847 - val_loss: 0.9022 - learning_rate: 1.0000e-05\n",
            "Epoch 155/300\n",
            "\n",
            "Epoch 155: val_accuracy did not improve from 0.68610\n",
            "448/448 - 82s - 183ms/step - accuracy: 0.7340 - loss: 0.7125 - val_accuracy: 0.6848 - val_loss: 0.9044 - learning_rate: 1.0000e-05\n",
            "Epoch 156/300\n",
            "\n",
            "Epoch 156: val_accuracy did not improve from 0.68610\n",
            "448/448 - 2s - 5ms/step - accuracy: 0.6562 - loss: 0.9090 - val_accuracy: 0.6843 - val_loss: 0.9044 - learning_rate: 1.0000e-05\n",
            "Epoch 157/300\n",
            "\n",
            "Epoch 157: val_accuracy did not improve from 0.68610\n",
            "448/448 - 82s - 183ms/step - accuracy: 0.7353 - loss: 0.7126 - val_accuracy: 0.6850 - val_loss: 0.9027 - learning_rate: 1.0000e-05\n",
            "Epoch 158/300\n",
            "\n",
            "Epoch 158: val_accuracy did not improve from 0.68610\n",
            "448/448 - 2s - 5ms/step - accuracy: 0.7969 - loss: 0.6340 - val_accuracy: 0.6846 - val_loss: 0.9029 - learning_rate: 1.0000e-05\n",
            "Epoch 159/300\n",
            "\n",
            "Epoch 159: val_accuracy did not improve from 0.68610\n",
            "448/448 - 25s - 55ms/step - accuracy: 0.7327 - loss: 0.7142 - val_accuracy: 0.6847 - val_loss: 0.9044 - learning_rate: 1.0000e-05\n",
            "Epoch 160/300\n",
            "\n",
            "Epoch 160: val_accuracy did not improve from 0.68610\n",
            "448/448 - 3s - 7ms/step - accuracy: 0.7969 - loss: 0.5986 - val_accuracy: 0.6846 - val_loss: 0.9043 - learning_rate: 1.0000e-05\n",
            "Epoch 161/300\n",
            "\n",
            "Epoch 161: val_accuracy did not improve from 0.68610\n",
            "448/448 - 41s - 91ms/step - accuracy: 0.7327 - loss: 0.7081 - val_accuracy: 0.6846 - val_loss: 0.9040 - learning_rate: 1.0000e-05\n",
            "Epoch 162/300\n",
            "\n",
            "Epoch 162: val_accuracy did not improve from 0.68610\n",
            "448/448 - 3s - 6ms/step - accuracy: 0.6719 - loss: 0.7925 - val_accuracy: 0.6840 - val_loss: 0.9043 - learning_rate: 1.0000e-05\n",
            "Epoch 163/300\n",
            "\n",
            "Epoch 163: val_accuracy did not improve from 0.68610\n",
            "448/448 - 64s - 143ms/step - accuracy: 0.7334 - loss: 0.7108 - val_accuracy: 0.6847 - val_loss: 0.9052 - learning_rate: 1.0000e-05\n",
            "Epoch 164/300\n",
            "\n",
            "Epoch 164: val_accuracy did not improve from 0.68610\n",
            "448/448 - 2s - 5ms/step - accuracy: 0.7188 - loss: 0.7876 - val_accuracy: 0.6847 - val_loss: 0.9050 - learning_rate: 1.0000e-05\n",
            "Epoch 165/300\n",
            "\n",
            "Epoch 165: val_accuracy did not improve from 0.68610\n",
            "448/448 - 39s - 86ms/step - accuracy: 0.7313 - loss: 0.7167 - val_accuracy: 0.6855 - val_loss: 0.9039 - learning_rate: 1.0000e-05\n",
            "Epoch 166/300\n",
            "\n",
            "Epoch 166: val_accuracy did not improve from 0.68610\n",
            "448/448 - 2s - 5ms/step - accuracy: 0.7500 - loss: 0.8208 - val_accuracy: 0.6861 - val_loss: 0.9036 - learning_rate: 1.0000e-05\n",
            "Epoch 167/300\n",
            "\n",
            "Epoch 167: val_accuracy improved from 0.68610 to 0.68652, saving model to best_model.h5\n"
          ]
        },
        {
          "metadata": {
            "tags": null
          },
          "name": "stderr",
          "output_type": "stream",
          "text": [
            "WARNING:absl:You are saving your model as an HDF5 file via `model.save()` or `keras.saving.save_model(model)`. This file format is considered legacy. We recommend using instead the native Keras format, e.g. `model.save('my_model.keras')` or `keras.saving.save_model(model, 'my_model.keras')`. \n"
          ]
        },
        {
          "metadata": {
            "tags": null
          },
          "name": "stdout",
          "output_type": "stream",
          "text": [
            "448/448 - 42s - 93ms/step - accuracy: 0.7330 - loss: 0.7116 - val_accuracy: 0.6865 - val_loss: 0.9045 - learning_rate: 1.0000e-05\n",
            "Epoch 168/300\n",
            "\n",
            "Epoch 168: val_accuracy did not improve from 0.68652\n",
            "448/448 - 4s - 10ms/step - accuracy: 0.6250 - loss: 0.8632 - val_accuracy: 0.6865 - val_loss: 0.9048 - learning_rate: 1.0000e-05\n",
            "Epoch 169/300\n",
            "\n",
            "Epoch 169: val_accuracy did not improve from 0.68652\n",
            "448/448 - 26s - 58ms/step - accuracy: 0.7331 - loss: 0.7125 - val_accuracy: 0.6855 - val_loss: 0.9044 - learning_rate: 1.0000e-05\n",
            "Epoch 170/300\n",
            "\n",
            "Epoch 170: val_accuracy did not improve from 0.68652\n",
            "448/448 - 2s - 5ms/step - accuracy: 0.7812 - loss: 0.5991 - val_accuracy: 0.6855 - val_loss: 0.9043 - learning_rate: 1.0000e-05\n",
            "Epoch 171/300\n",
            "\n",
            "Epoch 171: val_accuracy did not improve from 0.68652\n",
            "448/448 - 41s - 91ms/step - accuracy: 0.7350 - loss: 0.7058 - val_accuracy: 0.6847 - val_loss: 0.9051 - learning_rate: 1.0000e-05\n",
            "Epoch 172/300\n",
            "\n",
            "Epoch 172: val_accuracy did not improve from 0.68652\n",
            "448/448 - 2s - 5ms/step - accuracy: 0.7031 - loss: 0.7476 - val_accuracy: 0.6848 - val_loss: 0.9052 - learning_rate: 1.0000e-05\n",
            "Epoch 173/300\n",
            "\n",
            "Epoch 173: val_accuracy did not improve from 0.68652\n",
            "448/448 - 82s - 183ms/step - accuracy: 0.7313 - loss: 0.7081 - val_accuracy: 0.6857 - val_loss: 0.9042 - learning_rate: 1.0000e-05\n",
            "Epoch 174/300\n",
            "\n",
            "Epoch 174: val_accuracy did not improve from 0.68652\n",
            "448/448 - 2s - 5ms/step - accuracy: 0.7344 - loss: 0.7334 - val_accuracy: 0.6854 - val_loss: 0.9044 - learning_rate: 1.0000e-05\n",
            "Epoch 175/300\n",
            "\n",
            "Epoch 175: val_accuracy did not improve from 0.68652\n",
            "448/448 - 25s - 56ms/step - accuracy: 0.7366 - loss: 0.7076 - val_accuracy: 0.6846 - val_loss: 0.9068 - learning_rate: 1.0000e-05\n",
            "Epoch 176/300\n",
            "\n",
            "Epoch 176: val_accuracy did not improve from 0.68652\n",
            "448/448 - 2s - 5ms/step - accuracy: 0.6719 - loss: 0.7981 - val_accuracy: 0.6847 - val_loss: 0.9067 - learning_rate: 1.0000e-05\n",
            "Epoch 177/300\n",
            "\n",
            "Epoch 177: val_accuracy did not improve from 0.68652\n",
            "448/448 - 41s - 92ms/step - accuracy: 0.7380 - loss: 0.7116 - val_accuracy: 0.6855 - val_loss: 0.9055 - learning_rate: 1.0000e-05\n",
            "Epoch 178/300\n",
            "\n",
            "Epoch 178: val_accuracy did not improve from 0.68652\n",
            "448/448 - 2s - 5ms/step - accuracy: 0.7656 - loss: 0.6807 - val_accuracy: 0.6857 - val_loss: 0.9054 - learning_rate: 1.0000e-05\n",
            "Epoch 179/300\n",
            "\n",
            "Epoch 179: val_accuracy did not improve from 0.68652\n",
            "448/448 - 82s - 184ms/step - accuracy: 0.7349 - loss: 0.7065 - val_accuracy: 0.6860 - val_loss: 0.9032 - learning_rate: 1.0000e-05\n",
            "Epoch 180/300\n",
            "\n",
            "Epoch 180: val_accuracy did not improve from 0.68652\n",
            "448/448 - 2s - 5ms/step - accuracy: 0.7812 - loss: 0.6110 - val_accuracy: 0.6857 - val_loss: 0.9033 - learning_rate: 1.0000e-05\n",
            "Epoch 181/300\n",
            "\n",
            "Epoch 181: val_accuracy did not improve from 0.68652\n",
            "448/448 - 61s - 137ms/step - accuracy: 0.7360 - loss: 0.7104 - val_accuracy: 0.6844 - val_loss: 0.9083 - learning_rate: 1.0000e-05\n",
            "Epoch 182/300\n",
            "\n",
            "Epoch 182: val_accuracy did not improve from 0.68652\n",
            "448/448 - 2s - 5ms/step - accuracy: 0.7031 - loss: 0.6785 - val_accuracy: 0.6850 - val_loss: 0.9082 - learning_rate: 1.0000e-05\n",
            "Epoch 183/300\n",
            "\n",
            "Epoch 183: val_accuracy did not improve from 0.68652\n",
            "448/448 - 41s - 92ms/step - accuracy: 0.7359 - loss: 0.7090 - val_accuracy: 0.6857 - val_loss: 0.9055 - learning_rate: 1.0000e-05\n",
            "Epoch 184/300\n",
            "\n",
            "Epoch 184: val_accuracy did not improve from 0.68652\n",
            "448/448 - 2s - 5ms/step - accuracy: 0.7812 - loss: 0.7026 - val_accuracy: 0.6853 - val_loss: 0.9056 - learning_rate: 1.0000e-05\n",
            "Epoch 185/300\n",
            "\n",
            "Epoch 185: val_accuracy did not improve from 0.68652\n",
            "448/448 - 41s - 92ms/step - accuracy: 0.7355 - loss: 0.7061 - val_accuracy: 0.6851 - val_loss: 0.9065 - learning_rate: 1.0000e-05\n",
            "Epoch 186/300\n",
            "\n",
            "Epoch 186: val_accuracy did not improve from 0.68652\n",
            "448/448 - 2s - 5ms/step - accuracy: 0.7969 - loss: 0.6191 - val_accuracy: 0.6858 - val_loss: 0.9065 - learning_rate: 1.0000e-05\n",
            "Epoch 187/300\n",
            "\n",
            "Epoch 187: val_accuracy did not improve from 0.68652\n",
            "448/448 - 34s - 75ms/step - accuracy: 0.7338 - loss: 0.7113 - val_accuracy: 0.6861 - val_loss: 0.9078 - learning_rate: 1.0000e-05\n",
            "Epoch 188/300\n",
            "\n",
            "Epoch 188: val_accuracy did not improve from 0.68652\n",
            "448/448 - 3s - 6ms/step - accuracy: 0.8438 - loss: 0.5233 - val_accuracy: 0.6861 - val_loss: 0.9078 - learning_rate: 1.0000e-05\n",
            "Epoch 189/300\n",
            "\n",
            "Epoch 189: val_accuracy did not improve from 0.68652\n",
            "448/448 - 25s - 56ms/step - accuracy: 0.7350 - loss: 0.7067 - val_accuracy: 0.6861 - val_loss: 0.9061 - learning_rate: 1.0000e-05\n",
            "Epoch 190/300\n",
            "\n",
            "Epoch 190: val_accuracy did not improve from 0.68652\n",
            "448/448 - 2s - 6ms/step - accuracy: 0.7500 - loss: 0.6187 - val_accuracy: 0.6860 - val_loss: 0.9059 - learning_rate: 1.0000e-05\n",
            "Epoch 191/300\n",
            "\n",
            "Epoch 191: val_accuracy did not improve from 0.68652\n",
            "448/448 - 41s - 91ms/step - accuracy: 0.7377 - loss: 0.7083 - val_accuracy: 0.6855 - val_loss: 0.9057 - learning_rate: 1.0000e-05\n",
            "Epoch 192/300\n",
            "\n",
            "Epoch 192: val_accuracy did not improve from 0.68652\n",
            "448/448 - 2s - 5ms/step - accuracy: 0.7969 - loss: 0.6792 - val_accuracy: 0.6858 - val_loss: 0.9055 - learning_rate: 1.0000e-05\n",
            "Epoch 193/300\n",
            "\n",
            "Epoch 193: val_accuracy improved from 0.68652 to 0.68680, saving model to best_model.h5\n"
          ]
        },
        {
          "metadata": {
            "tags": null
          },
          "name": "stderr",
          "output_type": "stream",
          "text": [
            "WARNING:absl:You are saving your model as an HDF5 file via `model.save()` or `keras.saving.save_model(model)`. This file format is considered legacy. We recommend using instead the native Keras format, e.g. `model.save('my_model.keras')` or `keras.saving.save_model(model, 'my_model.keras')`. \n"
          ]
        },
        {
          "output_type": "stream",
          "name": "stdout",
          "text": [
            "448/448 - 66s - 148ms/step - accuracy: 0.7381 - loss: 0.7047 - val_accuracy: 0.6868 - val_loss: 0.9055 - learning_rate: 1.0000e-05\n",
            "Epoch 194/300\n",
            "\n",
            "Epoch 194: val_accuracy did not improve from 0.68680\n",
            "448/448 - 3s - 6ms/step - accuracy: 0.6094 - loss: 0.9792 - val_accuracy: 0.6867 - val_loss: 0.9054 - learning_rate: 1.0000e-05\n",
            "Epoch 195/300\n",
            "\n",
            "Epoch 195: val_accuracy did not improve from 0.68680\n",
            "448/448 - 38s - 85ms/step - accuracy: 0.7363 - loss: 0.7061 - val_accuracy: 0.6857 - val_loss: 0.9073 - learning_rate: 1.0000e-05\n",
            "Epoch 196/300\n",
            "\n",
            "Epoch 196: val_accuracy did not improve from 0.68680\n",
            "448/448 - 2s - 5ms/step - accuracy: 0.7969 - loss: 0.5514 - val_accuracy: 0.6860 - val_loss: 0.9072 - learning_rate: 1.0000e-05\n",
            "Epoch 197/300\n",
            "\n",
            "Epoch 197: val_accuracy did not improve from 0.68680\n",
            "448/448 - 41s - 91ms/step - accuracy: 0.7354 - loss: 0.7030 - val_accuracy: 0.6861 - val_loss: 0.9071 - learning_rate: 1.0000e-05\n",
            "Epoch 198/300\n",
            "\n",
            "Epoch 198: val_accuracy did not improve from 0.68680\n",
            "448/448 - 2s - 5ms/step - accuracy: 0.7969 - loss: 0.5929 - val_accuracy: 0.6860 - val_loss: 0.9074 - learning_rate: 1.0000e-05\n",
            "Epoch 199/300\n",
            "\n",
            "Epoch 199: val_accuracy did not improve from 0.68680\n",
            "448/448 - 64s - 143ms/step - accuracy: 0.7347 - loss: 0.7086 - val_accuracy: 0.6848 - val_loss: 0.9055 - learning_rate: 1.0000e-05\n",
            "Epoch 200/300\n",
            "\n",
            "Epoch 200: val_accuracy did not improve from 0.68680\n",
            "448/448 - 3s - 6ms/step - accuracy: 0.8125 - loss: 0.5396 - val_accuracy: 0.6853 - val_loss: 0.9055 - learning_rate: 1.0000e-05\n",
            "Epoch 201/300\n",
            "\n",
            "Epoch 201: val_accuracy did not improve from 0.68680\n",
            "448/448 - 25s - 55ms/step - accuracy: 0.7352 - loss: 0.7065 - val_accuracy: 0.6858 - val_loss: 0.9040 - learning_rate: 1.0000e-05\n",
            "Epoch 202/300\n",
            "\n",
            "Epoch 202: val_accuracy did not improve from 0.68680\n",
            "448/448 - 2s - 5ms/step - accuracy: 0.7344 - loss: 0.7321 - val_accuracy: 0.6862 - val_loss: 0.9039 - learning_rate: 1.0000e-05\n",
            "Epoch 203/300\n",
            "\n",
            "Epoch 203: val_accuracy did not improve from 0.68680\n",
            "448/448 - 41s - 91ms/step - accuracy: 0.7372 - loss: 0.7063 - val_accuracy: 0.6862 - val_loss: 0.9069 - learning_rate: 1.0000e-05\n",
            "Epoch 204/300\n",
            "\n",
            "Epoch 204: val_accuracy did not improve from 0.68680\n",
            "448/448 - 2s - 5ms/step - accuracy: 0.7344 - loss: 0.7002 - val_accuracy: 0.6864 - val_loss: 0.9067 - learning_rate: 1.0000e-05\n",
            "Epoch 205/300\n",
            "\n",
            "Epoch 205: val_accuracy did not improve from 0.68680\n",
            "448/448 - 38s - 85ms/step - accuracy: 0.7353 - loss: 0.7052 - val_accuracy: 0.6854 - val_loss: 0.9074 - learning_rate: 1.0000e-05\n",
            "Epoch 206/300\n",
            "\n",
            "Epoch 206: val_accuracy did not improve from 0.68680\n",
            "448/448 - 3s - 6ms/step - accuracy: 0.7812 - loss: 0.6212 - val_accuracy: 0.6853 - val_loss: 0.9075 - learning_rate: 1.0000e-05\n",
            "Epoch 207/300\n",
            "\n",
            "Epoch 207: val_accuracy did not improve from 0.68680\n",
            "448/448 - 37s - 83ms/step - accuracy: 0.7375 - loss: 0.7047 - val_accuracy: 0.6867 - val_loss: 0.9076 - learning_rate: 1.0000e-05\n",
            "Epoch 208/300\n",
            "\n",
            "Epoch 208: val_accuracy did not improve from 0.68680\n",
            "448/448 - 2s - 5ms/step - accuracy: 0.7969 - loss: 0.5636 - val_accuracy: 0.6867 - val_loss: 0.9075 - learning_rate: 1.0000e-05\n",
            "Epoch 209/300\n",
            "\n",
            "Epoch 209: val_accuracy improved from 0.68680 to 0.68694, saving model to best_model.h5\n"
          ]
        },
        {
          "output_type": "stream",
          "name": "stderr",
          "text": [
            "WARNING:absl:You are saving your model as an HDF5 file via `model.save()` or `keras.saving.save_model(model)`. This file format is considered legacy. We recommend using instead the native Keras format, e.g. `model.save('my_model.keras')` or `keras.saving.save_model(model, 'my_model.keras')`. \n"
          ]
        },
        {
          "output_type": "stream",
          "name": "stdout",
          "text": [
            "448/448 - 25s - 57ms/step - accuracy: 0.7370 - loss: 0.7050 - val_accuracy: 0.6869 - val_loss: 0.9055 - learning_rate: 1.0000e-05\n",
            "Epoch 210/300\n",
            "\n",
            "Epoch 210: val_accuracy did not improve from 0.68694\n",
            "448/448 - 3s - 6ms/step - accuracy: 0.7188 - loss: 0.6945 - val_accuracy: 0.6868 - val_loss: 0.9055 - learning_rate: 1.0000e-05\n",
            "Epoch 211/300\n"
          ]
        }
      ],
      "source": [
        "import os\n",
        "import numpy as np\n",
        "import tensorflow as tf\n",
        "import cv2\n",
        "import matplotlib.pyplot as plt\n",
        "import requests\n",
        "import zipfile\n",
        "\n",
        "from tensorflow.keras.preprocessing.image import ImageDataGenerator\n",
        "from tensorflow.keras.models import Model\n",
        "from tensorflow.keras.layers import Input, Conv2D, BatchNormalization, Activation, MaxPooling2D, Dropout, Flatten, Dense\n",
        "from tensorflow.keras.callbacks import ReduceLROnPlateau, ModelCheckpoint\n",
        "from sklearn.metrics import classification_report, confusion_matrix\n",
        "\n",
        "print(\"TensorFlow version:\", tf.__version__)\n",
        "zip_file = \"/archive.zip\"  # 修改为你的文件路径\n",
        "extract_folder = \"/content/extracted_folder\"\n",
        "\n",
        "with zipfile.ZipFile(zip_file, 'r') as zip_ref:\n",
        "    zip_ref.extractall(extract_folder)\n",
        "\n",
        "print(\"解压完成！\")\n",
        "\n",
        "# FER2013 中共有 7 个类别，顺序：Angry, Disgust, Fear, Happy, Sad, Surprise, Neutral\n",
        "emotion_labels = ['Angry', 'Disgust', 'Fear', 'Happy', 'Sad', 'Surprise', 'Neutral']\n",
        "\n",
        "# 修改为你在 Colab 上解压数据集的路径（训练集与测试集）\n",
        "train_dir = \"/content/extracted_folder/train\"   # 请确保此路径正确\n",
        "val_dir   = \"/content/extracted_folder/test\"      # 请确保此路径正确\n",
        "\n",
        "img_width, img_height = 48, 48\n",
        "batch_size = 64\n",
        "\n",
        "# 数据增强与生成器（注意设置 color_mode 为 'grayscale'）\n",
        "train_datagen = ImageDataGenerator(\n",
        "    rescale=1./255,\n",
        "    rotation_range=10,\n",
        "    width_shift_range=0.1,\n",
        "    height_shift_range=0.1,\n",
        "    zoom_range=0.1,\n",
        "    horizontal_flip=True\n",
        ")\n",
        "\n",
        "val_datagen = ImageDataGenerator(\n",
        "    rescale=1./255\n",
        ")\n",
        "\n",
        "train_generator = train_datagen.flow_from_directory(\n",
        "    train_dir,\n",
        "    target_size=(img_width, img_height),\n",
        "    color_mode=\"grayscale\",\n",
        "    batch_size=batch_size,\n",
        "    class_mode=\"sparse\",  # 标签将以整数形式输出\n",
        "    shuffle=True\n",
        ")\n",
        "\n",
        "val_generator = val_datagen.flow_from_directory(\n",
        "    val_dir,\n",
        "    target_size=(img_width, img_height),\n",
        "    color_mode=\"grayscale\",\n",
        "    batch_size=batch_size,\n",
        "    class_mode=\"sparse\",\n",
        "    shuffle=False\n",
        ")\n",
        "\n",
        "def build_model(input_shape=(48,48,1), num_classes=7):\n",
        "    inputs = Input(shape=input_shape)\n",
        "    # Block 1\n",
        "    x = Conv2D(64, (3,3), padding=\"same\")(inputs)\n",
        "    x = BatchNormalization()(x)\n",
        "    x = Activation(\"relu\")(x)\n",
        "    x = Conv2D(64, (3,3), padding=\"same\")(x)\n",
        "    x = BatchNormalization()(x)\n",
        "    x = Activation(\"relu\")(x)\n",
        "    x = MaxPooling2D((2,2))(x)\n",
        "    x = Dropout(0.25)(x)\n",
        "    # Block 2\n",
        "    x = Conv2D(128, (3,3), padding=\"same\")(x)\n",
        "    x = BatchNormalization()(x)\n",
        "    x = Activation(\"relu\")(x)\n",
        "    x = Conv2D(128, (3,3), padding=\"same\")(x)\n",
        "    x = BatchNormalization()(x)\n",
        "    x = Activation(\"relu\")(x)\n",
        "    x = MaxPooling2D((2,2))(x)\n",
        "    x = Dropout(0.25)(x)\n",
        "    # Block 3\n",
        "    x = Conv2D(256, (3,3), padding=\"same\")(x)\n",
        "    x = BatchNormalization()(x)\n",
        "    x = Activation(\"relu\")(x)\n",
        "    x = Conv2D(256, (3,3), padding=\"same\")(x)\n",
        "    x = BatchNormalization()(x)\n",
        "    x = Activation(\"relu\")(x)\n",
        "    x = MaxPooling2D((2,2))(x)\n",
        "    x = Dropout(0.25)(x)\n",
        "    x = Flatten()(x)\n",
        "    x = Dense(512)(x)\n",
        "    x = BatchNormalization()(x)\n",
        "    x = Activation(\"relu\")(x)\n",
        "    x = Dropout(0.5)(x)\n",
        "    outputs = Dense(num_classes, activation=\"softmax\")(x)\n",
        "    model = Model(inputs, outputs)\n",
        "    model.compile(optimizer=\"adam\", loss=\"sparse_categorical_crossentropy\", metrics=[\"accuracy\"])\n",
        "    return model\n",
        "\n",
        "model = build_model()\n",
        "\n",
        "# 修改回调函数：移除 EarlyStopping 以确保完整运行 300 个 epoch\n",
        "callbacks = [\n",
        "    ReduceLROnPlateau(monitor=\"val_loss\", factor=0.2, patience=10, min_lr=1e-5, verbose=1),\n",
        "    ModelCheckpoint(\"best_model.h5\", monitor=\"val_accuracy\", save_best_only=True, verbose=1)\n",
        "]\n",
        "\n",
        "history = model.fit(\n",
        "    train_generator,\n",
        "    steps_per_epoch = train_generator.samples // batch_size,\n",
        "    validation_data = val_generator,\n",
        "    validation_steps = val_generator.samples // batch_size,\n",
        "    epochs = 300,\n",
        "    callbacks = callbacks,\n",
        "    verbose = 2\n",
        ")\n",
        "\n",
        "model.save(\"facial_expression_model.h5\")\n",
        "\n",
        "# 评估模型\n",
        "val_generator.reset()\n",
        "loss, acc = model.evaluate(val_generator, verbose=0)\n",
        "print(f\"Validation Accuracy: {acc*100:.2f}%\")\n",
        "val_generator.reset()\n",
        "y_pred = np.argmax(model.predict(val_generator), axis=1)\n",
        "y_true = val_generator.classes\n",
        "print(\"Classification Report:\")\n",
        "print(classification_report(y_true, y_pred, target_names=list(train_generator.class_indices.keys())))\n",
        "cm = confusion_matrix(y_true, y_pred)\n",
        "plt.figure(figsize=(10,8))\n",
        "plt.imshow(cm, interpolation=\"nearest\", cmap=plt.cm.Blues)\n",
        "plt.title(\"Confusion Matrix\")\n",
        "plt.colorbar()\n",
        "ticks = np.arange(len(train_generator.class_indices))\n",
        "plt.xticks(ticks, list(train_generator.class_indices.keys()), rotation=45)\n",
        "plt.yticks(ticks, list(train_generator.class_indices.keys()))\n",
        "plt.tight_layout()\n",
        "plt.ylabel(\"True Label\")\n",
        "plt.xlabel(\"Predicted Label\")\n",
        "plt.savefig(\"confusion_matrix.png\")\n",
        "plt.show()\n",
        "\n",
        "# 注意：Colab 无法直接使用本地摄像头，实时识别部分在 Colab 上通常无法正常运行。\n",
        "# 如果你需要在本地运行实时表情识别，请在本地环境中运行以下代码：\n",
        "\n",
        "def real_time_expression_recognition(model):\n",
        "    cascade_file = \"haarcascade_frontalface_default.xml\"\n",
        "    if not os.path.exists(cascade_file):\n",
        "        url = \"https://raw.githubusercontent.com/opencv/opencv/master/data/haarcascades/haarcascade_frontalface_default.xml\"\n",
        "        r = requests.get(url)\n",
        "        if r.status_code == 200:\n",
        "            with open(cascade_file, \"wb\") as f:\n",
        "                f.write(r.content)\n",
        "            print(\"Haar Cascade downloaded.\")\n",
        "        else:\n",
        "            print(\"Failed to download Haar Cascade.\")\n",
        "            return\n",
        "    face_cascade = cv2.CascadeClassifier(cascade_file)\n",
        "    cap = cv2.VideoCapture(0)\n",
        "    if not cap.isOpened():\n",
        "        print(\"Cannot open webcam.\")\n",
        "        return\n",
        "    print(\"Starting real-time expression recognition. Press 'q' to exit.\")\n",
        "    while True:\n",
        "        ret, frame = cap.read()\n",
        "        if not ret:\n",
        "            break\n",
        "        gray = cv2.cvtColor(frame, cv2.COLOR_BGR2GRAY)\n",
        "        faces = face_cascade.detectMultiScale(gray, scaleFactor=1.3, minNeighbors=5)\n",
        "        for (x, y, w, h) in faces:\n",
        "            face_roi = gray[y:y+h, x:x+w]\n",
        "            try:\n",
        "                face_roi = cv2.resize(face_roi, (48,48))\n",
        "            except Exception:\n",
        "                continue\n",
        "            face_roi = face_roi.astype(\"float32\") / 255.0\n",
        "            face_roi = np.expand_dims(face_roi, axis=-1)\n",
        "            face_roi = np.expand_dims(face_roi, axis=0)\n",
        "            pred = model.predict(face_roi)\n",
        "            label_idx = np.argmax(pred)\n",
        "            label = list(train_generator.class_indices.keys())[label_idx]\n",
        "            cv2.rectangle(frame, (x, y), (x+w, y+h), (255,0,0), 2)\n",
        "            cv2.putText(frame, label, (x, y-10), cv2.FONT_HERSHEY_SIMPLEX, 0.9, (36,255,12), 2)\n",
        "        cv2.imshow(\"Real-time Expression Recognition\", frame)\n",
        "        if cv2.waitKey(1) & 0xFF == ord('q'):\n",
        "            break\n",
        "    cap.release()\n",
        "    cv2.destroyAllWindows()\n",
        "\n",
        "real_time_expression_recognition(model)"
      ]
    },
    {
      "cell_type": "code",
      "source": [
        "from google.colab import drive\n",
        "drive.mount('/content/drive')"
      ],
      "metadata": {
        "colab": {
          "base_uri": "https://localhost:8080/"
        },
        "id": "mInG0CgCyC7e",
        "outputId": "7cbb31ba-8c6a-4dd3-95bf-fd883e22eef4"
      },
      "execution_count": null,
      "outputs": [
        {
          "output_type": "stream",
          "name": "stdout",
          "text": [
            "Mounted at /content/drive\n"
          ]
        }
      ]
    }
  ]
}